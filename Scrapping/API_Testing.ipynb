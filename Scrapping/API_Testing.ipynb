{
 "cells": [
  {
   "cell_type": "code",
   "execution_count": 1,
   "id": "16a4fbbe",
   "metadata": {},
   "outputs": [],
   "source": [
    "from playwright.sync_api import sync_playwright"
   ]
  },
  {
   "cell_type": "code",
   "execution_count": 5,
   "id": "25fdb929",
   "metadata": {},
   "outputs": [
    {
     "ename": "NotImplementedError",
     "evalue": "",
     "output_type": "error",
     "traceback": [
      "\u001b[1;31m---------------------------------------------------------------------------\u001b[0m",
      "\u001b[1;31mNotImplementedError\u001b[0m                       Traceback (most recent call last)",
      "Cell \u001b[1;32mIn[5], line 16\u001b[0m\n\u001b[0;32m     13\u001b[0m         \u001b[38;5;28;01mawait\u001b[39;00m page\u001b[38;5;241m.\u001b[39mscreenshot(path\u001b[38;5;241m=\u001b[39m\u001b[38;5;124m\"\u001b[39m\u001b[38;5;124mscreenshot.png\u001b[39m\u001b[38;5;124m\"\u001b[39m)\n\u001b[0;32m     14\u001b[0m         \u001b[38;5;28;01mawait\u001b[39;00m browser\u001b[38;5;241m.\u001b[39mclose()\n\u001b[1;32m---> 16\u001b[0m \u001b[38;5;28;01mawait\u001b[39;00m run()\n",
      "Cell \u001b[1;32mIn[5], line 8\u001b[0m, in \u001b[0;36mrun\u001b[1;34m()\u001b[0m\n\u001b[0;32m      7\u001b[0m \u001b[38;5;28;01masync\u001b[39;00m \u001b[38;5;28;01mdef\u001b[39;00m\u001b[38;5;250m \u001b[39m\u001b[38;5;21mrun\u001b[39m():\n\u001b[1;32m----> 8\u001b[0m     \u001b[38;5;28;01masync\u001b[39;00m \u001b[38;5;28;01mwith\u001b[39;00m async_playwright() \u001b[38;5;28;01mas\u001b[39;00m p:\n\u001b[0;32m      9\u001b[0m         browser \u001b[38;5;241m=\u001b[39m \u001b[38;5;28;01mawait\u001b[39;00m p\u001b[38;5;241m.\u001b[39mchromium\u001b[38;5;241m.\u001b[39mlaunch(headless\u001b[38;5;241m=\u001b[39m\u001b[38;5;28;01mFalse\u001b[39;00m)\n\u001b[0;32m     10\u001b[0m         page \u001b[38;5;241m=\u001b[39m \u001b[38;5;28;01mawait\u001b[39;00m browser\u001b[38;5;241m.\u001b[39mnew_page()\n",
      "File \u001b[1;32md:\\Projects\\AI Job App\\venv\\lib\\site-packages\\playwright\\async_api\\_context_manager.py:46\u001b[0m, in \u001b[0;36mPlaywrightContextManager.__aenter__\u001b[1;34m(self)\u001b[0m\n\u001b[0;32m     44\u001b[0m \u001b[38;5;28;01mif\u001b[39;00m \u001b[38;5;129;01mnot\u001b[39;00m playwright_future\u001b[38;5;241m.\u001b[39mdone():\n\u001b[0;32m     45\u001b[0m     playwright_future\u001b[38;5;241m.\u001b[39mcancel()\n\u001b[1;32m---> 46\u001b[0m playwright \u001b[38;5;241m=\u001b[39m AsyncPlaywright(\u001b[38;5;28;43mnext\u001b[39;49m\u001b[43m(\u001b[49m\u001b[38;5;28;43miter\u001b[39;49m\u001b[43m(\u001b[49m\u001b[43mdone\u001b[49m\u001b[43m)\u001b[49m\u001b[43m)\u001b[49m\u001b[38;5;241;43m.\u001b[39;49m\u001b[43mresult\u001b[49m\u001b[43m(\u001b[49m\u001b[43m)\u001b[49m)\n\u001b[0;32m     47\u001b[0m playwright\u001b[38;5;241m.\u001b[39mstop \u001b[38;5;241m=\u001b[39m \u001b[38;5;28mself\u001b[39m\u001b[38;5;241m.\u001b[39m\u001b[38;5;21m__aexit__\u001b[39m  \u001b[38;5;66;03m# type: ignore\u001b[39;00m\n\u001b[0;32m     48\u001b[0m \u001b[38;5;28;01mreturn\u001b[39;00m playwright\n",
      "File \u001b[1;32m~\\AppData\\Local\\Programs\\Python\\Python39\\lib\\asyncio\\futures.py:201\u001b[0m, in \u001b[0;36mFuture.result\u001b[1;34m(self)\u001b[0m\n\u001b[0;32m    199\u001b[0m \u001b[38;5;28mself\u001b[39m\u001b[38;5;241m.\u001b[39m__log_traceback \u001b[38;5;241m=\u001b[39m \u001b[38;5;28;01mFalse\u001b[39;00m\n\u001b[0;32m    200\u001b[0m \u001b[38;5;28;01mif\u001b[39;00m \u001b[38;5;28mself\u001b[39m\u001b[38;5;241m.\u001b[39m_exception \u001b[38;5;129;01mis\u001b[39;00m \u001b[38;5;129;01mnot\u001b[39;00m \u001b[38;5;28;01mNone\u001b[39;00m:\n\u001b[1;32m--> 201\u001b[0m     \u001b[38;5;28;01mraise\u001b[39;00m \u001b[38;5;28mself\u001b[39m\u001b[38;5;241m.\u001b[39m_exception\n\u001b[0;32m    202\u001b[0m \u001b[38;5;28;01mreturn\u001b[39;00m \u001b[38;5;28mself\u001b[39m\u001b[38;5;241m.\u001b[39m_result\n",
      "File \u001b[1;32m~\\AppData\\Local\\Programs\\Python\\Python39\\lib\\asyncio\\tasks.py:256\u001b[0m, in \u001b[0;36mTask.__step\u001b[1;34m(***failed resolving arguments***)\u001b[0m\n\u001b[0;32m    252\u001b[0m \u001b[38;5;28;01mtry\u001b[39;00m:\n\u001b[0;32m    253\u001b[0m     \u001b[38;5;28;01mif\u001b[39;00m exc \u001b[38;5;129;01mis\u001b[39;00m \u001b[38;5;28;01mNone\u001b[39;00m:\n\u001b[0;32m    254\u001b[0m         \u001b[38;5;66;03m# We use the `send` method directly, because coroutines\u001b[39;00m\n\u001b[0;32m    255\u001b[0m         \u001b[38;5;66;03m# don't have `__iter__` and `__next__` methods.\u001b[39;00m\n\u001b[1;32m--> 256\u001b[0m         result \u001b[38;5;241m=\u001b[39m \u001b[43mcoro\u001b[49m\u001b[38;5;241;43m.\u001b[39;49m\u001b[43msend\u001b[49m\u001b[43m(\u001b[49m\u001b[38;5;28;43;01mNone\u001b[39;49;00m\u001b[43m)\u001b[49m\n\u001b[0;32m    257\u001b[0m     \u001b[38;5;28;01melse\u001b[39;00m:\n\u001b[0;32m    258\u001b[0m         result \u001b[38;5;241m=\u001b[39m coro\u001b[38;5;241m.\u001b[39mthrow(exc)\n",
      "File \u001b[1;32md:\\Projects\\AI Job App\\venv\\lib\\site-packages\\playwright\\_impl\\_connection.py:310\u001b[0m, in \u001b[0;36mConnection.run\u001b[1;34m(self)\u001b[0m\n\u001b[0;32m    307\u001b[0m \u001b[38;5;28;01masync\u001b[39;00m \u001b[38;5;28;01mdef\u001b[39;00m\u001b[38;5;250m \u001b[39m\u001b[38;5;21minit\u001b[39m() \u001b[38;5;241m-\u001b[39m\u001b[38;5;241m>\u001b[39m \u001b[38;5;28;01mNone\u001b[39;00m:\n\u001b[0;32m    308\u001b[0m     \u001b[38;5;28mself\u001b[39m\u001b[38;5;241m.\u001b[39mplaywright_future\u001b[38;5;241m.\u001b[39mset_result(\u001b[38;5;28;01mawait\u001b[39;00m \u001b[38;5;28mself\u001b[39m\u001b[38;5;241m.\u001b[39m_root_object\u001b[38;5;241m.\u001b[39minitialize())\n\u001b[1;32m--> 310\u001b[0m \u001b[38;5;28;01mawait\u001b[39;00m \u001b[38;5;28mself\u001b[39m\u001b[38;5;241m.\u001b[39m_transport\u001b[38;5;241m.\u001b[39mconnect()\n\u001b[0;32m    311\u001b[0m \u001b[38;5;28mself\u001b[39m\u001b[38;5;241m.\u001b[39m_init_task \u001b[38;5;241m=\u001b[39m \u001b[38;5;28mself\u001b[39m\u001b[38;5;241m.\u001b[39m_loop\u001b[38;5;241m.\u001b[39mcreate_task(init())\n\u001b[0;32m    312\u001b[0m \u001b[38;5;28;01mawait\u001b[39;00m \u001b[38;5;28mself\u001b[39m\u001b[38;5;241m.\u001b[39m_transport\u001b[38;5;241m.\u001b[39mrun()\n",
      "File \u001b[1;32md:\\Projects\\AI Job App\\venv\\lib\\site-packages\\playwright\\_impl\\_transport.py:133\u001b[0m, in \u001b[0;36mPipeTransport.connect\u001b[1;34m(self)\u001b[0m\n\u001b[0;32m    131\u001b[0m \u001b[38;5;28;01mexcept\u001b[39;00m \u001b[38;5;167;01mException\u001b[39;00m \u001b[38;5;28;01mas\u001b[39;00m exc:\n\u001b[0;32m    132\u001b[0m     \u001b[38;5;28mself\u001b[39m\u001b[38;5;241m.\u001b[39mon_error_future\u001b[38;5;241m.\u001b[39mset_exception(exc)\n\u001b[1;32m--> 133\u001b[0m     \u001b[38;5;28;01mraise\u001b[39;00m exc\n\u001b[0;32m    135\u001b[0m \u001b[38;5;28mself\u001b[39m\u001b[38;5;241m.\u001b[39m_output \u001b[38;5;241m=\u001b[39m \u001b[38;5;28mself\u001b[39m\u001b[38;5;241m.\u001b[39m_proc\u001b[38;5;241m.\u001b[39mstdin\n",
      "File \u001b[1;32md:\\Projects\\AI Job App\\venv\\lib\\site-packages\\playwright\\_impl\\_transport.py:120\u001b[0m, in \u001b[0;36mPipeTransport.connect\u001b[1;34m(self)\u001b[0m\n\u001b[0;32m    117\u001b[0m         startupinfo\u001b[38;5;241m.\u001b[39mwShowWindow \u001b[38;5;241m=\u001b[39m subprocess\u001b[38;5;241m.\u001b[39mSW_HIDE\n\u001b[0;32m    119\u001b[0m     executable_path, entrypoint_path \u001b[38;5;241m=\u001b[39m compute_driver_executable()\n\u001b[1;32m--> 120\u001b[0m     \u001b[38;5;28mself\u001b[39m\u001b[38;5;241m.\u001b[39m_proc \u001b[38;5;241m=\u001b[39m \u001b[38;5;28;01mawait\u001b[39;00m asyncio\u001b[38;5;241m.\u001b[39mcreate_subprocess_exec(\n\u001b[0;32m    121\u001b[0m         executable_path,\n\u001b[0;32m    122\u001b[0m         entrypoint_path,\n\u001b[0;32m    123\u001b[0m         \u001b[38;5;124m\"\u001b[39m\u001b[38;5;124mrun-driver\u001b[39m\u001b[38;5;124m\"\u001b[39m,\n\u001b[0;32m    124\u001b[0m         stdin\u001b[38;5;241m=\u001b[39masyncio\u001b[38;5;241m.\u001b[39msubprocess\u001b[38;5;241m.\u001b[39mPIPE,\n\u001b[0;32m    125\u001b[0m         stdout\u001b[38;5;241m=\u001b[39masyncio\u001b[38;5;241m.\u001b[39msubprocess\u001b[38;5;241m.\u001b[39mPIPE,\n\u001b[0;32m    126\u001b[0m         stderr\u001b[38;5;241m=\u001b[39m_get_stderr_fileno(),\n\u001b[0;32m    127\u001b[0m         limit\u001b[38;5;241m=\u001b[39m\u001b[38;5;241m32768\u001b[39m,\n\u001b[0;32m    128\u001b[0m         env\u001b[38;5;241m=\u001b[39menv,\n\u001b[0;32m    129\u001b[0m         startupinfo\u001b[38;5;241m=\u001b[39mstartupinfo,\n\u001b[0;32m    130\u001b[0m     )\n\u001b[0;32m    131\u001b[0m \u001b[38;5;28;01mexcept\u001b[39;00m \u001b[38;5;167;01mException\u001b[39;00m \u001b[38;5;28;01mas\u001b[39;00m exc:\n\u001b[0;32m    132\u001b[0m     \u001b[38;5;28mself\u001b[39m\u001b[38;5;241m.\u001b[39mon_error_future\u001b[38;5;241m.\u001b[39mset_exception(exc)\n",
      "File \u001b[1;32m~\\AppData\\Local\\Programs\\Python\\Python39\\lib\\asyncio\\subprocess.py:236\u001b[0m, in \u001b[0;36mcreate_subprocess_exec\u001b[1;34m(program, stdin, stdout, stderr, loop, limit, *args, **kwds)\u001b[0m\n\u001b[0;32m    229\u001b[0m     warnings\u001b[38;5;241m.\u001b[39mwarn(\u001b[38;5;124m\"\u001b[39m\u001b[38;5;124mThe loop argument is deprecated since Python 3.8 \u001b[39m\u001b[38;5;124m\"\u001b[39m\n\u001b[0;32m    230\u001b[0m                   \u001b[38;5;124m\"\u001b[39m\u001b[38;5;124mand scheduled for removal in Python 3.10.\u001b[39m\u001b[38;5;124m\"\u001b[39m,\n\u001b[0;32m    231\u001b[0m                   \u001b[38;5;167;01mDeprecationWarning\u001b[39;00m,\n\u001b[0;32m    232\u001b[0m                   stacklevel\u001b[38;5;241m=\u001b[39m\u001b[38;5;241m2\u001b[39m\n\u001b[0;32m    233\u001b[0m     )\n\u001b[0;32m    234\u001b[0m protocol_factory \u001b[38;5;241m=\u001b[39m \u001b[38;5;28;01mlambda\u001b[39;00m: SubprocessStreamProtocol(limit\u001b[38;5;241m=\u001b[39mlimit,\n\u001b[0;32m    235\u001b[0m                                                     loop\u001b[38;5;241m=\u001b[39mloop)\n\u001b[1;32m--> 236\u001b[0m transport, protocol \u001b[38;5;241m=\u001b[39m \u001b[38;5;28;01mawait\u001b[39;00m loop\u001b[38;5;241m.\u001b[39msubprocess_exec(\n\u001b[0;32m    237\u001b[0m     protocol_factory,\n\u001b[0;32m    238\u001b[0m     program, \u001b[38;5;241m*\u001b[39margs,\n\u001b[0;32m    239\u001b[0m     stdin\u001b[38;5;241m=\u001b[39mstdin, stdout\u001b[38;5;241m=\u001b[39mstdout,\n\u001b[0;32m    240\u001b[0m     stderr\u001b[38;5;241m=\u001b[39mstderr, \u001b[38;5;241m*\u001b[39m\u001b[38;5;241m*\u001b[39mkwds)\n\u001b[0;32m    241\u001b[0m \u001b[38;5;28;01mreturn\u001b[39;00m Process(transport, protocol, loop)\n",
      "File \u001b[1;32m~\\AppData\\Local\\Programs\\Python\\Python39\\lib\\asyncio\\base_events.py:1676\u001b[0m, in \u001b[0;36mBaseEventLoop.subprocess_exec\u001b[1;34m(self, protocol_factory, program, stdin, stdout, stderr, universal_newlines, shell, bufsize, encoding, errors, text, *args, **kwargs)\u001b[0m\n\u001b[0;32m   1674\u001b[0m     debug_log \u001b[38;5;241m=\u001b[39m \u001b[38;5;124mf\u001b[39m\u001b[38;5;124m'\u001b[39m\u001b[38;5;124mexecute program \u001b[39m\u001b[38;5;132;01m{\u001b[39;00mprogram\u001b[38;5;132;01m!r}\u001b[39;00m\u001b[38;5;124m'\u001b[39m\n\u001b[0;32m   1675\u001b[0m     \u001b[38;5;28mself\u001b[39m\u001b[38;5;241m.\u001b[39m_log_subprocess(debug_log, stdin, stdout, stderr)\n\u001b[1;32m-> 1676\u001b[0m transport \u001b[38;5;241m=\u001b[39m \u001b[38;5;28;01mawait\u001b[39;00m \u001b[38;5;28mself\u001b[39m\u001b[38;5;241m.\u001b[39m_make_subprocess_transport(\n\u001b[0;32m   1677\u001b[0m     protocol, popen_args, \u001b[38;5;28;01mFalse\u001b[39;00m, stdin, stdout, stderr,\n\u001b[0;32m   1678\u001b[0m     bufsize, \u001b[38;5;241m*\u001b[39m\u001b[38;5;241m*\u001b[39mkwargs)\n\u001b[0;32m   1679\u001b[0m \u001b[38;5;28;01mif\u001b[39;00m \u001b[38;5;28mself\u001b[39m\u001b[38;5;241m.\u001b[39m_debug \u001b[38;5;129;01mand\u001b[39;00m debug_log \u001b[38;5;129;01mis\u001b[39;00m \u001b[38;5;129;01mnot\u001b[39;00m \u001b[38;5;28;01mNone\u001b[39;00m:\n\u001b[0;32m   1680\u001b[0m     logger\u001b[38;5;241m.\u001b[39minfo(\u001b[38;5;124m'\u001b[39m\u001b[38;5;132;01m%s\u001b[39;00m\u001b[38;5;124m: \u001b[39m\u001b[38;5;132;01m%r\u001b[39;00m\u001b[38;5;124m'\u001b[39m, debug_log, transport)\n",
      "File \u001b[1;32m~\\AppData\\Local\\Programs\\Python\\Python39\\lib\\asyncio\\base_events.py:498\u001b[0m, in \u001b[0;36mBaseEventLoop._make_subprocess_transport\u001b[1;34m(self, protocol, args, shell, stdin, stdout, stderr, bufsize, extra, **kwargs)\u001b[0m\n\u001b[0;32m    494\u001b[0m \u001b[38;5;28;01masync\u001b[39;00m \u001b[38;5;28;01mdef\u001b[39;00m\u001b[38;5;250m \u001b[39m\u001b[38;5;21m_make_subprocess_transport\u001b[39m(\u001b[38;5;28mself\u001b[39m, protocol, args, shell,\n\u001b[0;32m    495\u001b[0m                                      stdin, stdout, stderr, bufsize,\n\u001b[0;32m    496\u001b[0m                                      extra\u001b[38;5;241m=\u001b[39m\u001b[38;5;28;01mNone\u001b[39;00m, \u001b[38;5;241m*\u001b[39m\u001b[38;5;241m*\u001b[39mkwargs):\n\u001b[0;32m    497\u001b[0m \u001b[38;5;250m    \u001b[39m\u001b[38;5;124;03m\"\"\"Create subprocess transport.\"\"\"\u001b[39;00m\n\u001b[1;32m--> 498\u001b[0m     \u001b[38;5;28;01mraise\u001b[39;00m \u001b[38;5;167;01mNotImplementedError\u001b[39;00m\n",
      "\u001b[1;31mNotImplementedError\u001b[0m: "
     ]
    }
   ],
   "source": [
    "import nest_asyncio\n",
    "import asyncio\n",
    "from playwright.async_api import async_playwright\n",
    "\n",
    "nest_asyncio.apply()  # Allow nested event loops\n",
    "\n",
    "async def run():\n",
    "    async with async_playwright() as p:\n",
    "        browser = await p.chromium.launch(headless=False)\n",
    "        page = await browser.new_page()\n",
    "        await page.goto(\"https://www.linkedin.com/\")\n",
    "        await page.wait_for_timeout(10000)\n",
    "        await page.screenshot(path=\"screenshot.png\")\n",
    "        await browser.close()\n",
    "\n",
    "await run()\n"
   ]
  },
  {
   "cell_type": "code",
   "execution_count": 6,
   "id": "ebd1f7e3",
   "metadata": {},
   "outputs": [
    {
     "name": "stdout",
     "output_type": "stream",
     "text": [
      "Response HTTP Status Code: 500\n",
      "Response HTTP Response Body:\n",
      " {\"error\": \"Error with your request, please try again (you will not be charged for this request).You should: 1) check that your URL is correctly encoded 2) try with block_resources=False 3) try with premium_proxy=True see documentation: https://www.scrapingbee.com/documentation#premium_proxy (10-25 credits per request) 4) try with stealth_proxy=True see documentation: https://www.scrapingbee.com/documentation#stealth_proxy (75 credits per request)Do not hesitate to check our troubleshooting guide:https://www.scrapingbee.com/help\", \"reason\": \"Server responded with 520\", \"help\": \"\"}\n"
     ]
    }
   ],
   "source": [
    "from scrapingbee import ScrapingBeeClient\n",
    "from dotenv import load_dotenv\n",
    "import os\n",
    "\n",
    "load_dotenv()\n",
    "\n",
    "client = ScrapingBeeClient(api_key=os.getenv('SCRAPINGBEE_API_KEY'))\n",
    "\n",
    "response = client.get(\n",
    "    'https://pk.indeed.com/jobs?q=AI+Engineer&l=Pakistan', \n",
    "    params={\n",
    "        \"render_js\": True,\n",
    "        \"block_resources\": False,   \n",
    "        \"stealth_proxy\": True \n",
    "    }\n",
    ")\n",
    "\n",
    "print(\"Response HTTP Status Code:\", response.status_code)\n",
    "print(\"Response HTTP Response Body:\\n\", response.content.decode(\"utf-8\")[:1000])\n"
   ]
  },
  {
   "cell_type": "code",
   "execution_count": 8,
   "id": "5d40a8e4",
   "metadata": {},
   "outputs": [
    {
     "name": "stdout",
     "output_type": "stream",
     "text": [
      "<html lang=\"en\" dir=\"ltr\"><head><meta charset=\"utf-8\"><meta name=\"viewport\" content=\"width=device-width, initial-scale=1\"><style>:root{color-scheme:light dark;--background-color:#fff;--primary-1000:#0d2d5e;--primary-900:#164081;--primary-800:#2557a7;--primary-700:#3f73d3;--primary-600:#6792f0;--neutral-1000:#2d2d2d;--neutral-900:#424242;--neutral-400:#d4d2d0;--dark-1000:#040606;--link-color:var(--primary-800);--link-color-hover:var(--primary-900);--menu-background-color:#fff;--text-color:var(--neutral-1000);--text-color-hover:var(--neutral-900);--default-transition:cubic-bezier(.645,.045,.355,1);--menu-transition:.28s all .12s ease-out;--font-family:\"Noto Sans\",system-ui,-apple-system,BlinkMacSystemFont,\"Helvetica Neue\",Arial,sans-serif;--icon-profile:url(\"data:image/svg+xml,%3Csvg width='18' height='18' viewBox='0 0 18 18' fill='none' xmlns='http://www.w3.org/2000/svg'%3E%3Cpath d='M9 9C11.4862 9 13.5 6.98625 13.5 4.5C13.5 2.01375 11.4862 0 9 0C6.51375 0 4.5 2.01375 4.5 4.5C4.5 6.98625 6.51375 9 9 9ZM9 11.25C5.99625 11.25 0 12.7575 0 15.75V17.5C0 17.7761 0.223858 18 0.5 18H17.5C17.7761 18 18 17.7761 18 17.5V15.75C18 12.7575 12.0037 11.25 9 11.25Z' fill='white'/%3E%3C/svg%3E%0A\")}@media (prefers-color-scheme:light){:root{--background-color:var(--background-color);--link-color-hover:var(--primary-900);--link-color:var(--primary-800);--text-color-hover:var(--neutral-900);--text-color:var(--neutral-1000);--menu-background-color:#fff}}@media (prefers-color-scheme:dark){:root{--background-color:var(--dark-1000);--text-color:#fff;--text-color-hover:#fff;--link-color:#fff;--link-hover-color:var(--primary-700);--menu-background-color:var(--neutral-900)}.error img{opacity:.8}.link-logo img{filter:brightness(2)}:root .link-signin:after{background-color:var(--neutral-900)}}*,:before,:after{box-sizing:border-box}html{-moz-text-size-adjust:100%;text-size-adjust:100%}body{background-color:var(--background-color);color:var(--text-color);font-family:var(--font-family);margin:0;font\n"
     ]
    }
   ],
   "source": [
    "from selenium import webdriver\n",
    "from selenium.webdriver.chrome.service import Service\n",
    "from selenium.webdriver.chrome.options import Options\n",
    "from webdriver_manager.chrome import ChromeDriverManager\n",
    "import time\n",
    "\n",
    "# Setup Chrome options\n",
    "chrome_options = Options()\n",
    "chrome_options.add_argument(\"--start-maximized\")   # open in full screen\n",
    "chrome_options.add_argument(\"--disable-blink-features=AutomationControlled\")  # helps avoid bot detection\n",
    "\n",
    "# Launch browser\n",
    "driver = webdriver.Chrome(service=Service(ChromeDriverManager().install()), options=chrome_options)\n",
    "\n",
    "# Go to Indeed Pakistan\n",
    "driver.get(\"https://pk.indeed.com/jobs?q=python&l=Lahore\")\n",
    "\n",
    "# wait for page to load\n",
    "time.sleep(5)\n",
    "\n",
    "# Get HTML\n",
    "html = driver.page_source\n",
    "print(html[:2000])  # print first 2000 chars\n",
    "\n",
    "# Save HTML to file\n",
    "with open(\"indeed_selenium.html\", \"w\", encoding=\"utf-8\") as f:\n",
    "    f.write(html)\n",
    "\n",
    "# Close browser\n",
    "driver.quit()\n"
   ]
  },
  {
   "cell_type": "code",
   "execution_count": null,
   "id": "c7622466",
   "metadata": {},
   "outputs": [],
   "source": []
  },
  {
   "cell_type": "code",
   "execution_count": null,
   "id": "8f8a6b4a",
   "metadata": {},
   "outputs": [
    {
     "name": "stdout",
     "output_type": "stream",
     "text": [
      "Response HTTP Status Code:  500\n",
      "Response HTTP Response Body:  b'{\"error\": \"Error with your request, please try again (you will not be charged for this request).You should: 1) check that your URL is correctly encoded 2) try with block_resources=False Do not hesitate to check our troubleshooting guide:https://www.scrapingbee.com/help\", \"reason\": \"Server responded with 520\", \"help\": \"\"}'\n"
     ]
    }
   ],
   "source": [
    "from scrapingbee import ScrapingBeeClient\n",
    "from bs4 import BeautifulSoup\n",
    "\n",
    "client = ScrapingBeeClient(api_key='VBN0DK8LE643TWBBB0GMF6664F4GVYMCYPUUMGQJHSTFFVYFZIILC1I59X96YDRHEAYA583F5F6P86D1')\n",
    "\n",
    "\n",
    "\n",
    "response = client.get('https://pk.indeed.com/',\n",
    "    params = { \n",
    "          'render_js': 'False',\n",
    "          'block_resources' : 'False',\n",
    "          'premium_proxy' : 'True',\n",
    "          'stealth_proxy' : 'True',\n",
    "          'render_js' : 'True',\n",
    "    }\n",
    ")\n",
    "\n",
    "content = response.content\n",
    "\n",
    "\n",
    "print('Response HTTP Status Code: ', response.status_code)"
   ]
  },
  {
   "cell_type": "code",
   "execution_count": null,
   "id": "a888a4a9",
   "metadata": {},
   "outputs": [],
   "source": [
    "search = content.find('span', class_=\"jobsearch-JobInfoHeader-subtitle\").text"
   ]
  },
  {
   "cell_type": "code",
   "execution_count": 9,
   "id": "1718bd5a",
   "metadata": {},
   "outputs": [
    {
     "name": "stdout",
     "output_type": "stream",
     "text": [
      "[{'job_position': 'Data Analytics & AI Engineer', 'job_link': 'https://pk.linkedin.com/jobs/view/data-analytics-ai-engineer-at-kpmg-saudi-arabia-4284779147?position=1&pageNum=0&refId=xVUphbJ0XEMDDqF4OA%2BDug%3D%3D&trackingId=2ENq2BbFu4OoZg%2BF4hAfKw%3D%3D', 'job_id': '4284779147', 'company_name': 'KPMG Saudi Arabia', 'company_profile': 'https://sa.linkedin.com/company/kpmg-sa?trk=public_jobs_jserp-result_job-search-card-subtitle', 'job_location': 'Karāchi, Sindh, Pakistan', 'job_posting_date': '2025-08-18', 'company_logo_url': 'https://media.licdn.com/dms/image/v2/C4D0BAQE_fBNIHsS4vQ/company-logo_100_100/company-logo_100_100/0/1678786522401/kpmg_sa_logo?e=2147483647&v=beta&t=_9psl078Ff2wRCyzalpyhVNbGIU0-477Hd8Yah6rzVM'}, {'job_position': 'AI/ML Engineer (Remote, Anywhere in Pakistan, AED Salary)', 'job_link': 'https://pk.linkedin.com/jobs/view/ai-ml-engineer-remote-anywhere-in-pakistan-aed-salary-at-hr-pod-careers-4291089469?position=2&pageNum=0&refId=xVUphbJ0XEMDDqF4OA%2BDug%3D%3D&trackingId=EPj4aw7kTMxW2rtEdgmW9g%3D%3D', 'job_id': '4291089469', 'company_name': 'HR POD Careers', 'company_profile': 'https://pk.linkedin.com/company/hrpod-careers?trk=public_jobs_jserp-result_job-search-card-subtitle', 'job_location': 'Lahore, Punjab, Pakistan', 'job_posting_date': '2025-08-26', 'company_logo_url': 'https://media.licdn.com/dms/image/v2/D4D0BAQHOM2fA_mCg9g/company-logo_100_100/B4DZa2mfyvHAAU-/0/1746820267708/hrpod_careers_logo?e=2147483647&v=beta&t=F-fHk75PoURxz7xmoGVF8aLWnnhzf3E3XpORoLCtQIU'}, {'job_position': 'Senior Software Engineer - Python/AI/ML', 'job_link': 'https://pk.linkedin.com/jobs/view/senior-software-engineer-python-ai-ml-at-devsinc-4284577482?position=3&pageNum=0&refId=xVUphbJ0XEMDDqF4OA%2BDug%3D%3D&trackingId=db7cDM6PguDcu%2BlG89yggQ%3D%3D', 'job_id': '4284577482', 'company_name': 'Devsinc', 'company_profile': 'https://www.linkedin.com/company/developers-inc?trk=public_jobs_jserp-result_job-search-card-subtitle', 'job_location': 'Lahore, Punjab, Pakistan', 'job_posting_date': '2025-07-20', 'company_logo_url': 'https://media.licdn.com/dms/image/v2/D4D0BAQEVnFMWgeSlAw/company-logo_100_100/company-logo_100_100/0/1733754613851/developers_inc_logo?e=2147483647&v=beta&t=3JvuIeWZj6Wfc5VHn727jhQQD1K-fxm8nKDsYrEIKFQ'}, {'job_position': 'Junior AI/ML Engineer', 'job_link': 'https://pk.linkedin.com/jobs/view/junior-ai-ml-engineer-at-placentek-4279783437?position=4&pageNum=0&refId=xVUphbJ0XEMDDqF4OA%2BDug%3D%3D&trackingId=58lR2w2j12pOPkVTNEczrQ%3D%3D', 'job_id': '4279783437', 'company_name': 'Placentek', 'company_profile': 'https://fi.linkedin.com/company/placentek?trk=public_jobs_jserp-result_job-search-card-subtitle', 'job_location': 'Islamabad, Islāmābād, Pakistan', 'job_posting_date': '2025-08-05', 'company_logo_url': 'https://media.licdn.com/dms/image/v2/D4D0BAQExd66-QtlosA/company-logo_100_100/company-logo_100_100/0/1722441821823/placentek_logo?e=2147483647&v=beta&t=Auz5W-z2QbOMY370Pjj-NX3BxGMFLmzii6rN4sv9FgI'}, {'job_position': 'AI Automation Engineer', 'job_link': 'https://pk.linkedin.com/jobs/view/ai-automation-engineer-at-fusemachines-4278330116?position=5&pageNum=0&refId=xVUphbJ0XEMDDqF4OA%2BDug%3D%3D&trackingId=qiMrUQdrjYpgmKG%2BpYGueA%3D%3D', 'job_id': '4278330116', 'company_name': 'Fusemachines', 'company_profile': 'https://www.linkedin.com/company/fusemachines?trk=public_jobs_jserp-result_job-search-card-subtitle', 'job_location': 'Islamabad, Islāmābād, Pakistan', 'job_posting_date': '2025-07-30', 'company_logo_url': 'https://media.licdn.com/dms/image/v2/D560BAQFpBPKrtFEh_A/company-logo_100_100/company-logo_100_100/0/1682490056011/fusemachines_logo?e=2147483647&v=beta&t=diqiyHIQK7ONJRADYZFty5f5Oc9QHAlwxeQ4ElJ0bn8'}, {'job_position': 'Senior Software Engineer- AI/ML', 'job_link': 'https://pk.linkedin.com/jobs/view/senior-software-engineer-ai-ml-at-devsinc-4283772522?position=6&pageNum=0&refId=xVUphbJ0XEMDDqF4OA%2BDug%3D%3D&trackingId=dbrN6%2FUB1khWTXJv5GsQ2w%3D%3D', 'job_id': '4283772522', 'company_name': 'Devsinc', 'company_profile': 'https://www.linkedin.com/company/developers-inc?trk=public_jobs_jserp-result_job-search-card-subtitle', 'job_location': 'Lahore, Punjab, Pakistan', 'job_posting_date': '2025-07-18', 'company_logo_url': 'https://media.licdn.com/dms/image/v2/D4D0BAQEVnFMWgeSlAw/company-logo_100_100/company-logo_100_100/0/1733754613851/developers_inc_logo?e=2147483647&v=beta&t=3JvuIeWZj6Wfc5VHn727jhQQD1K-fxm8nKDsYrEIKFQ'}, {'job_position': 'Machine Learning Engineer (100% remote)', 'job_link': 'https://pk.linkedin.com/jobs/view/machine-learning-engineer-100%25-remote-at-tether-io-4275576650?position=7&pageNum=0&refId=xVUphbJ0XEMDDqF4OA%2BDug%3D%3D&trackingId=W9mMIhNWG%2BsD1dx%2BfAzlcQ%3D%3D', 'job_id': '4275576650', 'company_name': 'Tether.io', 'company_profile': 'https://www.linkedin.com/company/tether?trk=public_jobs_jserp-result_job-search-card-subtitle', 'job_location': 'Pakistan', 'job_posting_date': '2025-07-24', 'company_logo_url': 'https://media.licdn.com/dms/image/v2/D4E0BAQHJph6vT09TdQ/company-logo_100_100/company-logo_100_100/0/1716108635836/tether_logo?e=2147483647&v=beta&t=Oq9Hs_q7fnJ1Nnieb10wwfA-wun_XDPxB6IOAGkl78I'}, {'job_position': 'AI/ML Engineer', 'job_link': 'https://pk.linkedin.com/jobs/view/ai-ml-engineer-at-nisum-4292360354?position=8&pageNum=0&refId=xVUphbJ0XEMDDqF4OA%2BDug%3D%3D&trackingId=%2B4HJw%2BclGK1f0wKDuBn9OQ%3D%3D', 'job_id': '4292360354', 'company_name': 'Nisum', 'company_profile': 'https://www.linkedin.com/company/nisum-technologies?trk=public_jobs_jserp-result_job-search-card-subtitle', 'job_location': 'Islamabad, Islāmābād, Pakistan', 'job_posting_date': '2025-08-28', 'company_logo_url': 'https://media.licdn.com/dms/image/v2/C560BAQGdgmwsN1CnNg/company-logo_100_100/company-logo_100_100/0/1640202835842/nisum_technologies_logo?e=2147483647&v=beta&t=YMBY6WHpjlCKyMDIOPdskYG6rqVg64xXhZWEWaQeI3Y'}, {'job_position': 'AI Engineer', 'job_link': 'https://pk.linkedin.com/jobs/view/ai-engineer-at-fusemachines-4282134886?position=9&pageNum=0&refId=xVUphbJ0XEMDDqF4OA%2BDug%3D%3D&trackingId=THFqKPeu6daujdtYIJF74g%3D%3D', 'job_id': '4282134886', 'company_name': 'Fusemachines', 'company_profile': 'https://www.linkedin.com/company/fusemachines?trk=public_jobs_jserp-result_job-search-card-subtitle', 'job_location': 'Islamabad, Islāmābād, Pakistan', 'job_posting_date': '2025-08-08', 'company_logo_url': 'https://media.licdn.com/dms/image/v2/D560BAQFpBPKrtFEh_A/company-logo_100_100/company-logo_100_100/0/1682490056011/fusemachines_logo?e=2147483647&v=beta&t=diqiyHIQK7ONJRADYZFty5f5Oc9QHAlwxeQ4ElJ0bn8'}, {'job_position': 'Python AI Engineer (Onsite, Lahore, PKR Salary)', 'job_link': 'https://pk.linkedin.com/jobs/view/python-ai-engineer-onsite-lahore-pkr-salary-at-hr-pod-careers-4291087881?position=10&pageNum=0&refId=xVUphbJ0XEMDDqF4OA%2BDug%3D%3D&trackingId=bmaZg6iocjowzElO7x25Dg%3D%3D', 'job_id': '4291087881', 'company_name': 'HR POD Careers', 'company_profile': 'https://pk.linkedin.com/company/hrpod-careers?trk=public_jobs_jserp-result_job-search-card-subtitle', 'job_location': 'Lahore, Punjab, Pakistan', 'job_posting_date': '2025-08-26', 'company_logo_url': 'https://media.licdn.com/dms/image/v2/D4D0BAQHOM2fA_mCg9g/company-logo_100_100/B4DZa2mfyvHAAU-/0/1746820267708/hrpod_careers_logo?e=2147483647&v=beta&t=F-fHk75PoURxz7xmoGVF8aLWnnhzf3E3XpORoLCtQIU'}]\n"
     ]
    }
   ],
   "source": [
    "import requests\n",
    "  \n",
    "api_key = \"66e8720b89076568910584bb\"\n",
    "url = \"https://api.scrapingdog.com/linkedinjobs\"\n",
    "  \n",
    "params = {\n",
    "    \"api_key\": api_key,\n",
    "    \"field\": \"AI Engineer\",\n",
    "    \"location\": \"Pakistan\",\n",
    "    \"page\":  1,\n",
    "    \"sort_by\": \"most_recent\", \n",
    "}\n",
    "  \n",
    "response = requests.get(url, params=params)\n",
    "  \n",
    "if response.status_code == 200:\n",
    "    data = response.json()\n",
    "    print(data)\n",
    "else:\n",
    "    print(f\"Request failed with status code: {response.status_code}\")"
   ]
  },
  {
   "cell_type": "code",
   "execution_count": null,
   "id": "2bf853ee",
   "metadata": {},
   "outputs": [
    {
     "ename": "Error",
     "evalue": "It looks like you are using Playwright Sync API inside the asyncio loop.\nPlease use the Async API instead.",
     "output_type": "error",
     "traceback": [
      "\u001b[31m---------------------------------------------------------------------------\u001b[39m",
      "\u001b[31mError\u001b[39m                                     Traceback (most recent call last)",
      "\u001b[36mCell\u001b[39m\u001b[36m \u001b[39m\u001b[32mIn[2]\u001b[39m\u001b[32m, line 23\u001b[39m\n\u001b[32m     20\u001b[39m         browser.close()\n\u001b[32m     22\u001b[39m \u001b[38;5;28;01mif\u001b[39;00m \u001b[34m__name__\u001b[39m == \u001b[33m\"\u001b[39m\u001b[33m__main__\u001b[39m\u001b[33m\"\u001b[39m:\n\u001b[32m---> \u001b[39m\u001b[32m23\u001b[39m     \u001b[43mmain\u001b[49m\u001b[43m(\u001b[49m\u001b[43m)\u001b[49m\n",
      "\u001b[36mCell\u001b[39m\u001b[36m \u001b[39m\u001b[32mIn[2]\u001b[39m\u001b[32m, line 4\u001b[39m, in \u001b[36mmain\u001b[39m\u001b[34m()\u001b[39m\n\u001b[32m      3\u001b[39m \u001b[38;5;28;01mdef\u001b[39;00m\u001b[38;5;250m \u001b[39m\u001b[34mmain\u001b[39m():\n\u001b[32m----> \u001b[39m\u001b[32m4\u001b[39m \u001b[43m    \u001b[49m\u001b[38;5;28;43;01mwith\u001b[39;49;00m\u001b[43m \u001b[49m\u001b[43msync_playwright\u001b[49m\u001b[43m(\u001b[49m\u001b[43m)\u001b[49m\u001b[43m \u001b[49m\u001b[38;5;28;43;01mas\u001b[39;49;00m\u001b[43m \u001b[49m\u001b[43mp\u001b[49m\u001b[43m:\u001b[49m\n\u001b[32m      5\u001b[39m \u001b[43m        \u001b[49m\u001b[43mbrowser\u001b[49m\u001b[43m \u001b[49m\u001b[43m=\u001b[49m\u001b[43m \u001b[49m\u001b[43mp\u001b[49m\u001b[43m.\u001b[49m\u001b[43mchromium\u001b[49m\u001b[43m.\u001b[49m\u001b[43mlaunch\u001b[49m\u001b[43m(\u001b[49m\u001b[43mheadless\u001b[49m\u001b[43m=\u001b[49m\u001b[38;5;28;43;01mFalse\u001b[39;49;00m\u001b[43m)\u001b[49m\u001b[43m  \u001b[49m\n\u001b[32m      6\u001b[39m \u001b[43m        \u001b[49m\u001b[43mcontext\u001b[49m\u001b[43m \u001b[49m\u001b[43m=\u001b[49m\u001b[43m \u001b[49m\u001b[43mbrowser\u001b[49m\u001b[43m.\u001b[49m\u001b[43mnew_context\u001b[49m\u001b[43m(\u001b[49m\u001b[43m)\u001b[49m\n",
      "\u001b[36mFile \u001b[39m\u001b[32md:\\Projects\\AI Job App\\venv\\Lib\\site-packages\\playwright\\sync_api\\_context_manager.py:47\u001b[39m, in \u001b[36mPlaywrightContextManager.__enter__\u001b[39m\u001b[34m(self)\u001b[39m\n\u001b[32m     45\u001b[39m             \u001b[38;5;28mself\u001b[39m._own_loop = \u001b[38;5;28;01mTrue\u001b[39;00m\n\u001b[32m     46\u001b[39m         \u001b[38;5;28;01mif\u001b[39;00m \u001b[38;5;28mself\u001b[39m._loop.is_running():\n\u001b[32m---> \u001b[39m\u001b[32m47\u001b[39m             \u001b[38;5;28;01mraise\u001b[39;00m Error(\n\u001b[32m     48\u001b[39m \u001b[38;5;250m                \u001b[39m\u001b[33;03m\"\"\"It looks like you are using Playwright Sync API inside the asyncio loop.\u001b[39;00m\n\u001b[32m     49\u001b[39m \u001b[33;03mPlease use the Async API instead.\"\"\"\u001b[39;00m\n\u001b[32m     50\u001b[39m             )\n\u001b[32m     52\u001b[39m         \u001b[38;5;66;03m# Create a new fiber for the protocol dispatcher. It will be pumping events\u001b[39;00m\n\u001b[32m     53\u001b[39m         \u001b[38;5;66;03m# until the end of times. We will pass control to that fiber every time we\u001b[39;00m\n\u001b[32m     54\u001b[39m         \u001b[38;5;66;03m# block while waiting for a response.\u001b[39;00m\n\u001b[32m     55\u001b[39m         \u001b[38;5;28;01mdef\u001b[39;00m\u001b[38;5;250m \u001b[39m\u001b[34mgreenlet_main\u001b[39m() -> \u001b[38;5;28;01mNone\u001b[39;00m:\n",
      "\u001b[31mError\u001b[39m: It looks like you are using Playwright Sync API inside the asyncio loop.\nPlease use the Async API instead."
     ]
    }
   ],
   "source": []
  },
  {
   "cell_type": "code",
   "execution_count": null,
   "id": "cb0db1c1",
   "metadata": {},
   "outputs": [],
   "source": []
  }
 ],
 "metadata": {
  "kernelspec": {
   "display_name": "venv (3.12.9)",
   "language": "python",
   "name": "python3"
  },
  "language_info": {
   "codemirror_mode": {
    "name": "ipython",
    "version": 3
   },
   "file_extension": ".py",
   "mimetype": "text/x-python",
   "name": "python",
   "nbconvert_exporter": "python",
   "pygments_lexer": "ipython3",
   "version": "3.12.9"
  }
 },
 "nbformat": 4,
 "nbformat_minor": 5
}
